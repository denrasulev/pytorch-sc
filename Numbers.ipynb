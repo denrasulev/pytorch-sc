{
  "cells": [
    {
      "cell_type": "markdown",
      "source": [
        "# PyTorch\n",
        "\n",
        "- Step 1: Load dataset\n",
        "- Step 2: Make dataset iterable\n",
        "- Step 3: Create model class\n",
        "- Step 4: Instantiate model\n",
        "- Step 5: Instatiate Loss\n",
        "- Step 6: Instantiate Optimizer\n",
        "- Step 7: Train Model"
      ],
      "metadata": {
        "collapsed": false,
        "outputHidden": false,
        "inputHidden": false
      }
    },
    {
      "cell_type": "markdown",
      "source": [
        "## Imports"
      ],
      "metadata": {
        "collapsed": false,
        "outputHidden": false,
        "inputHidden": false
      }
    },
    {
      "cell_type": "code",
      "source": [
        "import torch\n",
        "import halper\n",
        "import collections\n",
        "import numpy as np\n",
        "import matplotlib.pyplot as plt\n",
        "\n",
        "from torch import nn, optim\n",
        "from torch.autograd import Variable\n",
        "from torchvision import datasets, transforms\n",
        "\n",
        "%matplotlib inline\n",
        "%config InlineBackend.figure_format = 'retina'"
      ],
      "outputs": [],
      "execution_count": 1,
      "metadata": {
        "collapsed": false,
        "outputHidden": false,
        "inputHidden": false
      }
    },
    {
      "cell_type": "markdown",
      "source": [
        "## Step 1: Load dataset"
      ],
      "metadata": {
        "collapsed": false,
        "outputHidden": false,
        "inputHidden": false
      }
    },
    {
      "cell_type": "code",
      "source": [
        "# Compose all transformations\n",
        "transform = transforms.Compose([\n",
        "    transforms.ToTensor(), \n",
        "    transforms.Normalize((0.5,0.5), (0.5,0.5)),\n",
        "])\n",
        "\n",
        "# Load training dataset\n",
        "trainset = datasets.MNIST('~/.pytorch/MNIST_data/',\n",
        "                          download=True, train=True, transform=transform)\n",
        "\n",
        "# Load test dataset\n",
        "testset = datasets.MNIST('~/.pytorch/MNIST_data/',\n",
        "                          download=True, train=False, transform=transform)"
      ],
      "outputs": [],
      "execution_count": 2,
      "metadata": {
        "collapsed": false,
        "outputHidden": false,
        "inputHidden": false
      }
    },
    {
      "cell_type": "markdown",
      "source": [
        "## Step 2: Make dataset iterable"
      ],
      "metadata": {
        "collapsed": false,
        "outputHidden": false,
        "inputHidden": false
      }
    },
    {
      "cell_type": "code",
      "source": [
        "# Make datasets iterable\n",
        "trainloader = torch.utils.data.DataLoader(trainset, batch_size=100, shuffle=True)\n",
        "testloader = torch.utils.data.DataLoader(testset, batch_size=100, shuffle=True)\n",
        "\n",
        "# Test if datasets are iterable\n",
        "print(isinstance(trainloader, collections.Iterable))\n",
        "print(isinstance(testloader, collections.Iterable))"
      ],
      "outputs": [
        {
          "output_type": "stream",
          "name": "stdout",
          "text": [
            "True\n",
            "True\n"
          ]
        }
      ],
      "execution_count": 3,
      "metadata": {
        "collapsed": false,
        "outputHidden": false,
        "inputHidden": false
      }
    },
    {
      "cell_type": "markdown",
      "source": [
        "## Step 3: Create model class"
      ],
      "metadata": {
        "collapsed": false,
        "outputHidden": false,
        "inputHidden": false
      }
    },
    {
      "cell_type": "code",
      "source": [
        "class LogisticRegressionModel(nn.Module):\n",
        "    def __init__(self, input_dim, output_dim):\n",
        "        super(LogisticRegressionModel, self).__init__()\n",
        "        self.linear = nn.Linear(input_dim, output_dim)\n",
        "        \n",
        "    def forward(self, x):\n",
        "        out = self.linear(x)\n",
        "        return out"
      ],
      "outputs": [],
      "execution_count": 4,
      "metadata": {
        "collapsed": false,
        "outputHidden": false,
        "inputHidden": false
      }
    },
    {
      "cell_type": "markdown",
      "source": [
        "## Step 4: Instantiate model"
      ],
      "metadata": {
        "collapsed": false,
        "outputHidden": false,
        "inputHidden": false
      }
    },
    {
      "cell_type": "code",
      "source": [
        "dim_input = 28*28\n",
        "dim_output = 10\n",
        "\nmodel = LogisticRegressionModel(dim_input, dim_output)"
      ],
      "outputs": [],
      "execution_count": 5,
      "metadata": {
        "collapsed": false,
        "outputHidden": false,
        "inputHidden": false
      }
    },
    {
      "cell_type": "markdown",
      "source": [
        "## Step 5: Instatiate Loss"
      ],
      "metadata": {
        "collapsed": false,
        "outputHidden": false,
        "inputHidden": false
      }
    },
    {
      "cell_type": "code",
      "source": [
        "criterion = nn.CrossEntropyLoss()"
      ],
      "outputs": [],
      "execution_count": 6,
      "metadata": {
        "collapsed": false,
        "outputHidden": false,
        "inputHidden": false
      }
    },
    {
      "cell_type": "markdown",
      "source": [
        "## Step 6: Instantiate Optimizer"
      ],
      "metadata": {
        "collapsed": false,
        "outputHidden": false,
        "inputHidden": false
      }
    },
    {
      "cell_type": "code",
      "source": [
        "optimizer = torch.optim.SGD(model.parameters(), lr=0.001)"
      ],
      "outputs": [],
      "execution_count": 7,
      "metadata": {
        "collapsed": false,
        "outputHidden": false,
        "inputHidden": false
      }
    },
    {
      "cell_type": "markdown",
      "source": [
        "## Step 7: Train Model"
      ],
      "metadata": {
        "collapsed": false,
        "outputHidden": false,
        "inputHidden": false
      }
    },
    {
      "cell_type": "code",
      "source": [
        "iterat = 0\n",
        "epochs = 5\n",
        "\n",
        "for epoch in range(epochs):\n",
        "    for images, labels in trainloader:\n",
        "        \n",
        "        # Load images and labels\n",
        "        images = images.view(-1, 28*28)\n",
        "        \n",
        "        # Clear the gradient\n",
        "        optimizer.zero_grad()\n",
        "        \n",
        "        # Forward pass\n",
        "        output = model(images)\n",
        "        \n",
        "        # Calculate loss\n",
        "        loss = criterion(output, labels)\n",
        "        \n",
        "        # Update gradients\n",
        "        loss.backward()\n",
        "        \n",
        "        # Update parameters\n",
        "        optimizer.step()\n",
        "        \n",
        "        iterat += 1\n",
        "        \n",
        "        if iterat % 500 == 0:\n",
        "            \n",
        "            # Calculate accuracy\n",
        "            correct = 0\n",
        "            total = 0\n",
        "            \n",
        "            with torch.no_grad():\n",
        "                # Iterate through test dataset\n",
        "                for images, labels in testloader:\n",
        "\n",
        "                    # Load images\n",
        "                    images = images.view(-1, 28*28)\n",
        "\n",
        "                    # Forward pass\n",
        "                    outputs = model(images)\n",
        "\n",
        "                    # Get predictions\n",
        "                    _, predicted = torch.max(outputs.data, 1)\n",
        "\n",
        "                    # Total number of labels\n",
        "                    total += labels.size(0)\n",
        "\n",
        "                    # Total number of correct predictions\n",
        "                    correct += (predicted == labels).sum()\n",
        "\n",
        "                accuracy = 100 * correct / total\n",
        "            \n",
        "            # Print loss\n",
        "            print(\"Iteration: {}. Loss: {:.5f}. Accuracy: {}.\".format(iterat, loss.item(), accuracy))"
      ],
      "outputs": [
        {
          "output_type": "stream",
          "name": "stdout",
          "text": [
            "Iteration: 500. Loss: 0.37916. Accuracy: 90.\n",
            "Iteration: 1000. Loss: 0.28174. Accuracy: 90.\n",
            "Iteration: 1500. Loss: 0.38092. Accuracy: 90.\n",
            "Iteration: 2000. Loss: 0.22705. Accuracy: 91.\n",
            "Iteration: 2500. Loss: 0.32328. Accuracy: 90.\n",
            "Iteration: 3000. Loss: 0.38419. Accuracy: 91.\n"
          ]
        }
      ],
      "execution_count": 21,
      "metadata": {
        "collapsed": false,
        "outputHidden": false,
        "inputHidden": false
      }
    },
    {
      "cell_type": "code",
      "source": [
        "torch.save(model.state_dict(), 'mnist_numbers_model.pkl')"
      ],
      "outputs": [],
      "execution_count": 22,
      "metadata": {
        "collapsed": false,
        "outputHidden": false,
        "inputHidden": false
      }
    },
    {
      "cell_type": "code",
      "source": [],
      "outputs": [],
      "execution_count": 24,
      "metadata": {
        "collapsed": false,
        "outputHidden": false,
        "inputHidden": false
      }
    },
    {
      "cell_type": "code",
      "source": [],
      "outputs": [],
      "execution_count": null,
      "metadata": {
        "collapsed": false,
        "outputHidden": false,
        "inputHidden": false
      }
    }
  ],
  "metadata": {
    "kernel_info": {
      "name": "python3"
    },
    "language_info": {
      "name": "python",
      "version": "3.7.0",
      "mimetype": "text/x-python",
      "codemirror_mode": {
        "name": "ipython",
        "version": 3
      },
      "pygments_lexer": "ipython3",
      "nbconvert_exporter": "python",
      "file_extension": ".py"
    },
    "kernelspec": {
      "name": "python3",
      "language": "python",
      "display_name": "Python 3"
    },
    "nteract": {
      "version": "0.12.3"
    }
  },
  "nbformat": 4,
  "nbformat_minor": 4
}
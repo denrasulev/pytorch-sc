{
  "cells": [
    {
      "cell_type": "markdown",
      "source": [
        "# Fashion Recognition NN"
      ],
      "metadata": {
        "collapsed": false,
        "outputHidden": false,
        "inputHidden": false
      }
    },
    {
      "cell_type": "code",
      "source": [
        "# Imports\n",
        "%matplotlib inline\n",
        "%config InlineBackend.figure_format = 'retina'\n",
        "\n",
        "import torch\n",
        "import halper\n",
        "\n",
        "import torch.nn.functional as F\n",
        "import matplotlib.pyplot as plt\n",
        "\n",
        "from torch import nn\n",
        "from torch import optim\n",
        "from torchvision import datasets, transforms"
      ],
      "outputs": [],
      "execution_count": 6,
      "metadata": {
        "collapsed": false,
        "outputHidden": false,
        "inputHidden": false
      }
    },
    {
      "cell_type": "markdown",
      "source": [
        "## Get the data"
      ],
      "metadata": {
        "collapsed": false,
        "outputHidden": false,
        "inputHidden": false
      }
    },
    {
      "cell_type": "code",
      "source": [
        "# Define a transform to normalize the data\n",
        "transform = transforms.Compose([transforms.ToTensor(),\n",
        "                                transforms.Normalize((0.5, 0.5, 0.5), (0.5, 0.5, 0.5))])\n",
        "\n",
        "# Download and load the training data\n",
        "trainset = datasets.FashionMNIST('~/.pytorch/F_MNIST_data/', download=True, train=True, transform=transform)\n",
        "trainloader = torch.utils.data.DataLoader(trainset, batch_size=64, shuffle=True)\n",
        "\n",
        "# Download and load the test data\n",
        "testset = datasets.FashionMNIST('~/.pytorch/F_MNIST_data/', download=True, train=False, transform=transform)\n",
        "testloader = torch.utils.data.DataLoader(testset, batch_size=64, shuffle=True)"
      ],
      "outputs": [
        {
          "output_type": "stream",
          "name": "stdout",
          "text": [
            "Downloading http://fashion-mnist.s3-website.eu-central-1.amazonaws.com/train-images-idx3-ubyte.gz\n",
            "Downloading http://fashion-mnist.s3-website.eu-central-1.amazonaws.com/train-labels-idx1-ubyte.gz\n",
            "Downloading http://fashion-mnist.s3-website.eu-central-1.amazonaws.com/t10k-images-idx3-ubyte.gz\n",
            "Downloading http://fashion-mnist.s3-website.eu-central-1.amazonaws.com/t10k-labels-idx1-ubyte.gz\n",
            "Processing...\n",
            "Done!\n"
          ]
        }
      ],
      "execution_count": 7,
      "metadata": {
        "collapsed": false,
        "outputHidden": false,
        "inputHidden": false
      }
    },
    {
      "cell_type": "markdown",
      "source": [
        "## View random image from the dataset"
      ],
      "metadata": {
        "collapsed": false,
        "outputHidden": false,
        "inputHidden": false
      }
    },
    {
      "cell_type": "code",
      "source": [
        "image, label = next(iter(trainloader))\n",
        "halper.imshow(image[0,:]);"
      ],
      "outputs": [
        {
          "output_type": "display_data",
          "data": {
            "text/plain": [
              "<Figure size 432x288 with 1 Axes>"
            ],
            "image/png": "[encoded data removed]"
          },
          "metadata": {
            "image/png": {
              "width": 233,
              "height": 233
            }
          }
        }
      ],
      "execution_count": 17,
      "metadata": {
        "collapsed": false,
        "outputHidden": false,
        "inputHidden": false
      }
    },
    {
      "cell_type": "markdown",
      "source": [
        "## Define network architecture"
      ],
      "metadata": {
        "collapsed": false,
        "outputHidden": false,
        "inputHidden": false
      }
    },
    {
      "cell_type": "code",
      "source": [
        "#   Each image is 28x28 pixels, 784 in total\n",
        "#   There are 10 clasees\n",
        "\n",
        "model = nn.Sequential(nn.Linear(784, 512),\n",
        "                      nn.ReLU(),\n",
        "                      nn.Linear(512, 256),\n",
        "                      nn.ReLU(),\n",
        "                      nn.Linear(256, 128),\n",
        "                      nn.ReLU(),\n",
        "                      nn.Linear(128, 64),\n",
        "                      nn.ReLU(),\n",
        "                      nn.Linear(64, 10),\n",
        "                      nn.LogSoftmax(dim=1))"
      ],
      "outputs": [],
      "execution_count": 10,
      "metadata": {}
    },
    {
      "cell_type": "markdown",
      "source": [
        "## Create the network"
      ],
      "metadata": {
        "collapsed": false,
        "outputHidden": false,
        "inputHidden": false
      }
    },
    {
      "cell_type": "code",
      "source": [
        "# Define criterion - NLLLoss or CrossEntropyLoss\n",
        "criterion = nn.NLLLoss()\n",
        "\n",
        "# Define optimizer - optim.SGD or optim.Adam\n",
        "# and Learning Rate\n",
        "optimizer = optim.SGD(model.parameters(), lr=0.005)"
      ],
      "outputs": [],
      "execution_count": 11,
      "metadata": {
        "collapsed": false,
        "outputHidden": false,
        "inputHidden": false
      }
    },
    {
      "cell_type": "markdown",
      "source": [
        "## Train the network"
      ],
      "metadata": {
        "collapsed": false,
        "outputHidden": false,
        "inputHidden": false
      }
    },
    {
      "cell_type": "code",
      "source": [
        "# Adjust hyperparameters (hidden layers, learning rate, etc)\n",
        "# to get training loss below 0.4\n",
        "\n",
        "epochs = 50\n",
        "\n",
        "for e in range(epochs):\n",
        "    running_loss = 0\n",
        "    for images, labels in trainloader:\n",
        "        images = images.view(images.shape[0], -1)\n",
        "        \n",
        "        optimizer.zero_grad()\n",
        "\n",
        "        output = model.forward(images)\n",
        "        loss = criterion(output, labels)\n",
        "        loss.backward()\n",
        "        optimizer.step()\n",
        "        \n",
        "        running_loss += loss.item()\n",
        "    else:\n",
        "        print(f\"Training loss: {running_loss / len(trainloader)}\")"
      ],
      "outputs": [
        {
          "output_type": "stream",
          "name": "stdout",
          "text": [
            "Training loss: 0.3328905550163311\n",
            "Training loss: 0.3257793773100702\n",
            "Training loss: 0.3205693855738716\n",
            "Training loss: 0.3141941448280425\n",
            "Training loss: 0.30785398012888965\n",
            "Training loss: 0.30302313078186915\n",
            "Training loss: 0.2961609502003264\n",
            "Training loss: 0.2933408765078608\n",
            "Training loss: 0.2887693619343645\n",
            "Training loss: 0.28235875614193967\n",
            "Training loss: 0.2782210546817734\n",
            "Training loss: 0.2736526211616454\n",
            "Training loss: 0.2706532063467035\n",
            "Training loss: 0.2660187529141842\n",
            "Training loss: 0.260663176555115\n",
            "Training loss: 0.2567913177441051\n",
            "Training loss: 0.25339539381645637\n",
            "Training loss: 0.24902396949369515\n",
            "Training loss: 0.24511583630781947\n",
            "Training loss: 0.24135568429793375\n",
            "Training loss: 0.2378738946053011\n",
            "Training loss: 0.233014943431626\n",
            "Training loss: 0.23064943547569103\n",
            "Training loss: 0.2266498269684025\n",
            "Training loss: 0.22296790873556377\n",
            "Training loss: 0.22061844506084538\n",
            "Training loss: 0.21532371876908263\n",
            "Training loss: 0.21483859939298142\n",
            "Training loss: 0.2113664903636299\n",
            "Training loss: 0.20635091634129665\n",
            "Training loss: 0.20297638643016694\n",
            "Training loss: 0.20043324706142646\n",
            "Training loss: 0.19648313652604882\n",
            "Training loss: 0.19349784743207604\n",
            "Training loss: 0.1898374878195748\n",
            "Training loss: 0.18707912987165615\n",
            "Training loss: 0.18487797836775083\n",
            "Training loss: 0.18278478486324423\n",
            "Training loss: 0.1794638488648225\n",
            "Training loss: 0.17297090392218215\n",
            "Training loss: 0.17148524908416435\n",
            "Training loss: 0.16776010550574452\n",
            "Training loss: 0.16611102996255034\n",
            "Training loss: 0.16547915627008308\n",
            "Training loss: 0.1605137094958568\n",
            "Training loss: 0.16016274119125629\n",
            "Training loss: 0.1561153457045301\n",
            "Training loss: 0.150686177061692\n",
            "Training loss: 0.15080836771933764\n",
            "Training loss: 0.14849913699318096\n"
          ]
        }
      ],
      "execution_count": 22,
      "metadata": {
        "collapsed": false,
        "outputHidden": false,
        "inputHidden": false
      }
    },
    {
      "cell_type": "markdown",
      "source": [
        "## Test the network"
      ],
      "metadata": {
        "collapsed": false,
        "outputHidden": false,
        "inputHidden": false
      }
    },
    {
      "cell_type": "code",
      "source": [
        "dataiter = iter(testloader)\n",
        "images, labels = dataiter.next()\n",
        "img = images[0]\n",
        "\n",
        "# Convert 2D image to 1D vector\n",
        "img = img.resize_(1, 784)\n",
        "\n",
        "# Calculate the class probabilities (softmax) for img\n",
        "logps = model.forward(img)\n",
        "ps = torch.exp(logps)\n",
        "\n",
        "# Plot the image and probabilities\n",
        "halper.view_classify(img.resize_(1, 28, 28), ps, version='Fashion')"
      ],
      "outputs": [
        {
          "output_type": "display_data",
          "data": {
            "text/plain": [
              "<Figure size 432x648 with 2 Axes>"
            ],
            "image/png": "[encoded data removed]"
          },
          "metadata": {
            "image/png": {
              "width": 423,
              "height": 206
            }
          }
        }
      ],
      "execution_count": 23,
      "metadata": {}
    }
  ],
  "metadata": {
    "kernel_info": {
      "name": "python3"
    },
    "language_info": {
      "name": "python",
      "version": "3.7.0",
      "mimetype": "text/x-python",
      "codemirror_mode": {
        "name": "ipython",
        "version": 3
      },
      "pygments_lexer": "ipython3",
      "nbconvert_exporter": "python",
      "file_extension": ".py"
    },
    "kernelspec": {
      "name": "python3",
      "language": "python",
      "display_name": "Python 3"
    },
    "nteract": {
      "version": "0.12.3"
    }
  },
  "nbformat": 4,
  "nbformat_minor": 4
}
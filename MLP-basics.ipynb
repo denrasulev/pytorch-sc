{
  "cells": [
    {
      "cell_type": "markdown",
      "source": [
        "# Basics\n",
        "\nThis is notebook for excersises with [PyTorch](https://pytorch.ord) framework."
      ],
      "metadata": {
        "collapsed": false,
        "outputHidden": false,
        "inputHidden": false
      }
    },
    {
      "cell_type": "code",
      "source": [
        "# Import modules\n",
        "%matplotlib inline\n",
        "%config InlineBackend.figure_format = 'retina'\n",
        "\n",
        "import torch\n",
        "import halper\n",
        "import numpy as np\n",
        "import torch.nn.functional as F\n",
        "import matplotlib.pyplot as plt\n",
        "\n",
        "from torch import nn\n",
        "from torch import optim\n",
        "from torchvision import datasets, transforms"
      ],
      "outputs": [],
      "execution_count": 1,
      "metadata": {
        "collapsed": false,
        "outputHidden": false,
        "inputHidden": false
      }
    },
    {
      "cell_type": "code",
      "source": [
        "# Define activation functions\n",
        "def sigmoid(x):\n",
        "    \"\"\"Sigmoid activation function\"\"\"\n",
        "    return 1 / (1 + torch.exp(-x))\n",
        "\n",
        "def tanh(x):\n",
        "    \"\"\"TanH (Hyperbolic Tangent Function) activation function\"\"\"\n",
        "    return torch.tanh(x)\n",
        "\nrelu = nn.ReLU()"
      ],
      "outputs": [],
      "execution_count": 2,
      "metadata": {
        "collapsed": false,
        "outputHidden": false,
        "inputHidden": false
      }
    },
    {
      "cell_type": "markdown",
      "source": [
        "## Single Neuron"
      ],
      "metadata": {
        "collapsed": false,
        "outputHidden": false,
        "inputHidden": false
      }
    },
    {
      "cell_type": "code",
      "source": [
        "# Generate random data\n",
        "torch.manual_seed(7)\n",
        "\n",
        "# Init features, weights, bias\n",
        "features = torch.randn(1, 5)\n",
        "weights = torch.randn_like(features)\n",
        "bias = torch.randn(1, 1)"
      ],
      "outputs": [],
      "execution_count": 3,
      "metadata": {
        "collapsed": false,
        "outputHidden": false,
        "inputHidden": false
      }
    },
    {
      "cell_type": "code",
      "source": [
        "print(\"Features: \", features)\n",
        "print(\"Weights: \", weights)\n",
        "print(\"Bias: \", bias)"
      ],
      "outputs": [
        {
          "output_type": "stream",
          "name": "stdout",
          "text": [
            "Features:  tensor([[-0.1468,  0.7861,  0.9468, -1.1143,  1.6908]])\n",
            "Weights:  tensor([[-0.8948, -0.3556,  1.2324,  0.1382, -1.6822]])\n",
            "Bias:  tensor([[0.3177]])\n"
          ]
        }
      ],
      "execution_count": 4,
      "metadata": {
        "collapsed": false,
        "outputHidden": false,
        "inputHidden": false
      }
    },
    {
      "cell_type": "code",
      "source": [
        "# Calculate output\n",
        "y = sigmoid(torch.sum(features * weights) + bias)\n",
        "y"
      ],
      "outputs": [
        {
          "output_type": "execute_result",
          "execution_count": 5,
          "data": {
            "text/plain": [
              "tensor([[0.1595]])"
            ]
          },
          "metadata": {}
        }
      ],
      "execution_count": 5,
      "metadata": {
        "collapsed": false,
        "outputHidden": false,
        "inputHidden": false
      }
    },
    {
      "cell_type": "code",
      "source": [
        "# Calculate output using matrix multiplication\n",
        "y = sigmoid(torch.mm(features, weights.view(5,1)) + bias)\n",
        "y"
      ],
      "outputs": [
        {
          "output_type": "execute_result",
          "execution_count": 6,
          "data": {
            "text/plain": [
              "tensor([[0.1595]])"
            ]
          },
          "metadata": {}
        }
      ],
      "execution_count": 6,
      "metadata": {
        "collapsed": false,
        "outputHidden": false,
        "inputHidden": false
      }
    },
    {
      "cell_type": "markdown",
      "source": [
        "## Stack neurons to layers"
      ],
      "metadata": {
        "collapsed": false,
        "outputHidden": false,
        "inputHidden": false
      }
    },
    {
      "cell_type": "code",
      "source": [
        "# Define the structure\n",
        "n_input = features.shape[1]     # Number of input units, must match number of input features\n",
        "n_hidden = 2                    # Number of hidden units \n",
        "n_output = 1                    # Number of output units\n",
        "\n",
        "# Weights for inputs to hidden layer\n",
        "W1 = torch.randn(n_input, n_hidden)\n",
        "# Weights for hidden layer to output layer\n",
        "W2 = torch.randn(n_hidden, n_output)\n",
        "\n",
        "# Bias terms for hidden and output layers\n",
        "B1 = torch.randn(1, n_hidden)\n",
        "B2 = torch.randn(1, n_output)"
      ],
      "outputs": [],
      "execution_count": 7,
      "metadata": {}
    },
    {
      "cell_type": "code",
      "source": [
        "print(\"Features: \", features)\n",
        "print(\"Input: \", features.shape[1])\n",
        "print(\"W1: \", W1)\n",
        "print(\"W2: \", W2)\n",
        "print(\"B1: \", B1)\n",
        "print(\"B2: \", B2)"
      ],
      "outputs": [
        {
          "output_type": "stream",
          "name": "stdout",
          "text": [
            "Features:  tensor([[-0.1468,  0.7861,  0.9468, -1.1143,  1.6908]])\n",
            "Input:  5\n",
            "W1:  tensor([[0.1328, 0.1373],\n",
            "        [0.2405, 1.3955],\n",
            "        [1.3470, 2.4382],\n",
            "        [0.2028, 2.4505],\n",
            "        [2.0256, 1.7792]])\n",
            "W2:  tensor([[-0.9179],\n",
            "        [-0.4578]])\n",
            "B1:  tensor([[-0.7245,  1.2799]])\n",
            "B2:  tensor([[-0.9941]])\n"
          ]
        }
      ],
      "execution_count": 8,
      "metadata": {
        "collapsed": false,
        "outputHidden": false,
        "inputHidden": false
      }
    },
    {
      "cell_type": "code",
      "source": [
        "h = relu(torch.mm(features, W1) + B1)\n",
        "y = sigmoid(torch.mm(h, W2) + B2)\n",
        "y"
      ],
      "outputs": [
        {
          "output_type": "execute_result",
          "execution_count": 9,
          "data": {
            "text/plain": [
              "tensor([[0.0011]])"
            ]
          },
          "metadata": {}
        }
      ],
      "execution_count": 9,
      "metadata": {
        "collapsed": false,
        "outputHidden": false,
        "inputHidden": false
      }
    },
    {
      "cell_type": "markdown",
      "source": [
        "## Network for image number recognition"
      ],
      "metadata": {
        "collapsed": false,
        "outputHidden": false,
        "inputHidden": false
      }
    },
    {
      "cell_type": "code",
      "source": [
        "# Define a transformations to normalize the data\n",
        "transform = transforms.Compose([transforms.ToTensor(),\n",
        "                              transforms.Normalize((0.5,), (0.5,)),\n",
        "                              ])\n",
        "\n",
        "# Download and load the training data\n",
        "trainset = datasets.MNIST('~/.pytorch/MNIST_data/', download=True, train=True, transform=transform)\n",
        "trainloader = torch.utils.data.DataLoader(trainset, batch_size=64, shuffle=True)"
      ],
      "outputs": [],
      "execution_count": 10,
      "metadata": {}
    },
    {
      "cell_type": "code",
      "source": [
        "dataiter = iter(trainloader)\n",
        "images, labels = dataiter.next()\n",
        "print(type(images))\n",
        "print(images.shape)\n",
        "print(labels.shape)"
      ],
      "outputs": [
        {
          "output_type": "stream",
          "name": "stdout",
          "text": [
            "<class 'torch.Tensor'>\n",
            "torch.Size([64, 1, 28, 28])\n",
            "torch.Size([64])\n"
          ]
        }
      ],
      "execution_count": 11,
      "metadata": {
        "collapsed": false,
        "outputHidden": false,
        "inputHidden": false
      }
    },
    {
      "cell_type": "code",
      "source": [
        "plt.imshow(images[1].numpy().squeeze(), cmap='Greys_r')"
      ],
      "outputs": [
        {
          "output_type": "execute_result",
          "execution_count": 12,
          "data": {
            "text/plain": [
              "<matplotlib.image.AxesImage at 0x11a908b70>"
            ]
          },
          "metadata": {}
        },
        {
          "output_type": "display_data",
          "data": {
            "text/plain": [
              "<Figure size 432x288 with 1 Axes>"
            ],
            "image/png": "[encoded data removed]"
          },
          "metadata": {
            "image/png": {
              "width": 253,
              "height": 250
            }
          }
        }
      ],
      "execution_count": 12,
      "metadata": {
        "collapsed": false,
        "outputHidden": false,
        "inputHidden": false
      }
    },
    {
      "cell_type": "code",
      "source": [
        "# Define the structure\n",
        "n_inp = 784    # Number of input units\n",
        "n_hid = 256    # Number of hidden units \n",
        "n_out = 10     # Number of output units\n",
        "\n",
        "inputs = images.view(images.shape[0], -1)\n",
        "\n",
        "# Weights for inputs to hidden layer\n",
        "w1 = torch.randn(n_inp, n_hid)\n",
        "w2 = torch.randn(n_hid, n_out)\n",
        "\n",
        "# Bias terms for hidden and output layers\n",
        "b1 = torch.randn(1, n_hid)\n",
        "b2 = torch.randn(1, n_out)"
      ],
      "outputs": [],
      "execution_count": 13,
      "metadata": {
        "collapsed": false,
        "outputHidden": false,
        "inputHidden": false
      }
    },
    {
      "cell_type": "code",
      "source": [
        "hid = sigmoid(torch.mm(inputs, w1) + b1)\n",
        "out = torch.mm(hid, w2) + b2\n",
        "out"
      ],
      "outputs": [
        {
          "output_type": "execute_result",
          "execution_count": 14,
          "data": {
            "text/plain": [
              "tensor([[  3.4650,  -9.3836,  -9.9485,   9.4702,  10.0684,  16.0961,  -6.2732,\n",
              "           2.8965,  -0.6581,   4.4914],\n",
              "        [ -3.4401,  -2.1008,  -1.0362,  14.2685,  -2.7966,  -0.1972,  -2.3134,\n",
              "           0.1276,  -3.9340,  10.3931],\n",
              "        [  4.1170,  -4.4916,  14.4495,   3.8711,  11.7530,   6.0813,  -6.8356,\n",
              "           4.0926,  -3.3715,  -1.5335],\n",
              "        [  0.9149,  -6.5682,   7.9304,  16.4015,  10.8328,   8.0136,  -4.4967,\n",
              "           4.8189,  -4.2965,   5.9058],\n",
              "        [  5.5597,  -8.4811,  -2.5871,  14.7395,  13.2668,  18.1413,   2.6496,\n",
              "          -1.2208,  -4.2804,   5.2748],\n",
              "        [ -2.9577, -10.8776,  -3.9198,  18.8121,  -0.8268,   9.4067,   5.6384,\n",
              "          10.1557,  -0.2571,   2.3656],\n",
              "        [ -0.4996,  -7.9370,  -1.3912,  11.4435,   5.0798,  13.4650,  -7.8572,\n",
              "           4.2008,  -8.0562,   0.5859],\n",
              "        [ -9.0681, -10.0080,   3.7154,  13.8048,   1.2239,  14.2243,  -5.0702,\n",
              "           0.3474,  -6.0579,   4.3319],\n",
              "        [  6.4393,  -4.9171,   3.4406,   6.0519,   1.9684,  12.3335,  -8.6811,\n",
              "           1.2472,  -3.7591, -10.4160],\n",
              "        [  5.6634, -10.0682,   2.2730,  11.4970,   5.3472,  14.5982,  -8.0017,\n",
              "           3.2794,  -8.5887,  -1.2972],\n",
              "        [  9.8805,  -6.1442,   2.1488,   5.4201,   9.5173,  12.1933, -10.3752,\n",
              "           6.0812,  -4.0606,   2.5781],\n",
              "        [ -0.6531, -10.3890,  -3.1183,   7.1513,  -2.8414,   8.1320,  -3.8749,\n",
              "          -1.7486, -10.7011,   5.5664],\n",
              "        [ -0.7464,  -1.7182,  -3.0089,  11.5711,   9.9044,   5.6587,  -3.3134,\n",
              "           3.0767,  -7.6369,   7.6800],\n",
              "        [  1.6177, -12.4694,   6.7346,   8.4178,  -0.2659,  16.9716,  -8.7770,\n",
              "           5.3667,  -3.2567,   8.1929],\n",
              "        [  4.9722,  -6.6695,  -3.1642,   9.0501,  12.4941,   9.1199, -14.9193,\n",
              "           1.6467,   1.4794,  -0.8825],\n",
              "        [  4.9988,  -3.4369,   2.6283,  19.0066,   0.1855,   2.8032,  -1.4617,\n",
              "           8.4636, -17.0639,  16.8554],\n",
              "        [ -1.3612,  -4.6124,   2.6705,  21.1288,  16.0836,  18.9987,  -8.1155,\n",
              "          -3.6153, -10.0802,  -4.0005],\n",
              "        [  1.8323,  -7.7606,   9.9934,  15.7434,  11.2658,  14.1145, -13.4353,\n",
              "           3.3888,  -5.5876,   9.5380],\n",
              "        [  0.9213, -14.1788,  -6.3941,   9.5883,  10.3485,   8.2500, -12.8072,\n",
              "           4.5957,  -8.1680,   1.1760],\n",
              "        [  3.2893,  -8.2711,  -3.1745,  16.0809,   7.3629,  13.7375,  -3.6699,\n",
              "           2.8039,  -3.1520,  -0.4624],\n",
              "        [-10.2083,  -1.6496,   7.4481,   9.1081,   8.6488,   7.4247,  -0.9105,\n",
              "           0.2368,  -7.5741,   9.3095],\n",
              "        [  0.3885,  -4.0716,   2.4839,  12.7385,   3.2568,   7.3418,  -2.9452,\n",
              "           2.3652, -11.4246,   3.7697],\n",
              "        [  8.1698,  -9.1844,   2.6880,  13.4460,   8.6919,  10.4023,  -3.8376,\n",
              "           0.9964,   0.9184,  -1.1486],\n",
              "        [ -8.4137, -11.7941,  -3.3082,  25.1797,   1.3829, -12.4582,  -1.3677,\n",
              "          -0.6682,  -6.4823,   3.6995],\n",
              "        [ 11.2993,  -5.9577,  -3.7721,  10.7208,   7.8457,  10.0508,  -4.6138,\n",
              "           9.2859,  -5.3715,  11.4617],\n",
              "        [ -8.9960,  -4.7662,   0.5731,  10.7552,  20.0164,   3.5131,  -5.2754,\n",
              "           4.7317,  -3.2768,   9.7260],\n",
              "        [  3.3725,   9.7620,  -5.2024,   6.5165,   9.4581,   7.9484,  -2.4680,\n",
              "           6.4242,  -4.9818,  -3.8773],\n",
              "        [  8.1269, -20.4116,  11.1738,  15.2511,   8.6342,  15.1210,  -0.4640,\n",
              "           2.8238,   4.9828,  -0.6507],\n",
              "        [  1.1243,  -9.9593,  -0.6195,   9.8313,   1.5184,  -2.2306,  -2.1291,\n",
              "           0.0417,  -8.9318,   6.9456],\n",
              "        [  8.9173,  -2.5679,   4.5162,  15.3495,   7.8426,  17.9575,  -0.1816,\n",
              "           1.0095,  -0.0848,  -1.9880],\n",
              "        [ -4.6738,  -5.4722,  -8.8900,  13.4761,  -4.8044,   7.7520,  -5.4584,\n",
              "           6.0388, -10.0852,   2.3586],\n",
              "        [  1.0566,  -5.1598,   4.6004,  -3.0893,  12.0334,  19.6030,  -6.0030,\n",
              "           4.5493,  -0.6232,   2.4609],\n",
              "        [  5.5093,  -8.4663,   4.2138,  13.6858,   0.9384,  10.6185,   0.7652,\n",
              "           1.3268,   3.5789,  -2.2891],\n",
              "        [  4.6281,  -6.3972,  -5.0232,  12.9147,   3.3491,  10.9264,   5.9718,\n",
              "           7.0483,   1.4803,  -1.0988],\n",
              "        [ -3.4776,  -1.8740,  -2.4098,  15.1372,  -5.3944,   2.2379,  -5.2838,\n",
              "          -1.8684,  -7.4143,   8.6975],\n",
              "        [  4.0933,  -3.4457,  10.3129,   7.6624,  11.3639,   5.3994,  -1.5544,\n",
              "          -1.4543, -10.1752,   8.6625],\n",
              "        [ -0.2687, -10.4769,  -9.0083,   5.8984,  -0.5384,   9.6176,  -3.0756,\n",
              "           4.5391,   2.8310,   6.1127],\n",
              "        [  3.6880,  -6.8336,  -8.5963,   7.8039,  14.8596,  14.6028,  -2.4162,\n",
              "           3.2839,  -9.2258,   7.5899],\n",
              "        [ -0.0294, -22.2228,   5.2770,  19.8922,   5.9748,  12.4769,  -2.8963,\n",
              "           6.2201,  -4.2958,   9.8922],\n",
              "        [  8.4251,  -5.3465,   0.8223,   6.8623,   6.4341,   8.9708,  -1.7066,\n",
              "          -4.4196,  -7.1453,   0.0100],\n",
              "        [  0.8051,  -9.4580,   7.7636,  -4.4327,   5.4193,  17.6477,   3.5168,\n",
              "          -1.9512,   1.8057,  -5.2380],\n",
              "        [  4.9153, -14.6698,  -4.1093,   8.5050,   1.2333,  -1.8186,   4.0345,\n",
              "          -1.9763,  -7.0691,   9.4693],\n",
              "        [ -4.6042, -12.6449,  -2.8894,  13.8790,   6.1601,   7.2313,  -1.3886,\n",
              "          12.2387,  -6.6991,   3.6842],\n",
              "        [ -0.0075, -10.6153,   0.6399,  18.7381,   2.0087,   1.1161,  -3.1142,\n",
              "           0.6799,   0.8749,   9.6144],\n",
              "        [  1.4813,  -4.6129,   2.6139,   0.0162,  10.3542,  12.3338,   3.4080,\n",
              "           4.6844,  -8.9090,   5.8472],\n",
              "        [  1.9632,  -5.1203,   3.8141,   8.5604,   2.1515,  22.1165,  -4.6799,\n",
              "          -0.3237, -12.8244,   0.9399],\n",
              "        [  2.3265,  -1.0751,  -2.2385,   7.2979,  13.6236,   5.1401,   1.1429,\n",
              "          -7.0797, -11.0994,   5.0931],\n",
              "        [ -4.3095,  -3.7744,   0.6421,   2.1755,   4.8157,  15.8974,   2.2678,\n",
              "           1.0919,  -9.2446,   8.0902],\n",
              "        [ -4.0113,  -2.4192,  -7.2651,  17.1998,   4.7852,  15.1130, -12.9353,\n",
              "           9.6234,  -4.5860,   5.7988],\n",
              "        [  2.1132,   6.9704,  -5.8633,   4.5701,   1.9720,   1.4381,  -1.5894,\n",
              "           4.2028,  -8.4800,   3.3838],\n",
              "        [  0.0147,   0.8915,  -5.0752,  12.7478,   1.3799,   4.0466,  -8.2769,\n",
              "           1.5594,  -0.4787,  -2.4280],\n",
              "        [ 11.0626,  -5.9204,   5.8049,  10.4535,   3.9526,  16.2124,  -0.6611,\n",
              "           2.1300,  -1.2701,  -4.9473],\n",
              "        [ -2.3270,  -5.3961,  -0.2760,   8.6471,  11.0543,  10.7973,  12.0753,\n",
              "          -1.5470, -10.2941,   7.1438],\n",
              "        [  7.0172,  -7.4412,  -7.7968,  10.2105,   9.7381,   9.0319,  -0.2446,\n",
              "          -8.0121,  -1.6995,  -1.5819],\n",
              "        [ -6.2742,  -5.8943, -18.3452,  17.0004,   5.3362,  13.4546,  -7.9091,\n",
              "           0.4831,   3.1494,   9.8565],\n",
              "        [  9.1696,  -6.4805,  -2.1090,   8.7813,  11.7142,   5.1901,   3.1532,\n",
              "           5.2939, -13.2318,   8.9420],\n",
              "        [  1.8969,   1.4201,   3.9729,   4.1646,  -0.4488,  13.5433,  -5.6836,\n",
              "           2.9539,  -9.5445,   8.1304],\n",
              "        [ -7.2719,  -6.7119,  -1.8188,  -0.0514,   7.3943,   9.2506,  -1.6577,\n",
              "           4.8228,  -6.0182,   3.6435],\n",
              "        [  6.5153,  -9.7512,   6.4832,  14.5796,   1.5587,  10.2176, -12.3016,\n",
              "           5.2696,  -7.4145,   4.5314],\n",
              "        [  0.0264,  -6.3685,   1.9302,  12.0039,   8.6076,  16.7414,   5.5566,\n",
              "          -1.5520, -13.3537,   0.4534],\n",
              "        [  1.6457, -11.0790,  -0.9715,  11.5546,   8.8093,   9.0704,   2.4349,\n",
              "          -3.0984,  -8.2728,   2.1350],\n",
              "        [  4.8833,   1.5787,  -0.9140,   3.8675,   9.3957,   4.7036,  -0.1388,\n",
              "           0.4416,  -6.0187,   0.1731],\n",
              "        [ -1.4583,   0.1101,  -1.1471,   8.6742,   7.8046,  12.8374,  -7.1687,\n",
              "           3.2689,  -8.2008,   1.2615],\n",
              "        [ 12.0028, -16.4631,   1.9391,  17.0312,   4.1717,   5.6700,  -5.5374,\n",
              "           1.4408,  -0.2766,   9.2432]])"
            ]
          },
          "metadata": {}
        }
      ],
      "execution_count": 14,
      "metadata": {
        "collapsed": false,
        "outputHidden": false,
        "inputHidden": false
      }
    },
    {
      "cell_type": "code",
      "source": [
        "out.shape"
      ],
      "outputs": [
        {
          "output_type": "execute_result",
          "execution_count": 15,
          "data": {
            "text/plain": [
              "torch.Size([64, 10])"
            ]
          },
          "metadata": {}
        }
      ],
      "execution_count": 15,
      "metadata": {
        "collapsed": false,
        "outputHidden": false,
        "inputHidden": false
      }
    },
    {
      "cell_type": "code",
      "source": [
        "def softmax(x):\n",
        "    return torch.exp(x) / torch.sum(torch.exp(x), dim=1).view(-1, 1)"
      ],
      "outputs": [],
      "execution_count": 16,
      "metadata": {
        "collapsed": false,
        "outputHidden": false,
        "inputHidden": false
      }
    },
    {
      "cell_type": "code",
      "source": [
        "# Here, out should be the output of the network in the previous excercise with shape (64,10)\n",
        "probabilities = softmax(out)\n",
        "# Does it have the right shape? Should be (64, 10)\n",
        "print(probabilities.shape)\n",
        "# Does it sum to 1?\n",
        "print(probabilities.sum(dim=1))"
      ],
      "outputs": [
        {
          "output_type": "stream",
          "name": "stdout",
          "text": [
            "torch.Size([64, 10])\n",
            "tensor([1.0000, 1.0000, 1.0000, 1.0000, 1.0000, 1.0000, 1.0000, 1.0000, 1.0000,\n",
            "        1.0000, 1.0000, 1.0000, 1.0000, 1.0000, 1.0000, 1.0000, 1.0000, 1.0000,\n",
            "        1.0000, 1.0000, 1.0000, 1.0000, 1.0000, 1.0000, 1.0000, 1.0000, 1.0000,\n",
            "        1.0000, 1.0000, 1.0000, 1.0000, 1.0000, 1.0000, 1.0000, 1.0000, 1.0000,\n",
            "        1.0000, 1.0000, 1.0000, 1.0000, 1.0000, 1.0000, 1.0000, 1.0000, 1.0000,\n",
            "        1.0000, 1.0000, 1.0000, 1.0000, 1.0000, 1.0000, 1.0000, 1.0000, 1.0000,\n",
            "        1.0000, 1.0000, 1.0000, 1.0000, 1.0000, 1.0000, 1.0000, 1.0000, 1.0000,\n",
            "        1.0000])\n"
          ]
        }
      ],
      "execution_count": 17,
      "metadata": {
        "collapsed": false,
        "outputHidden": false,
        "inputHidden": false
      }
    },
    {
      "cell_type": "code",
      "source": [
        "probabilities"
      ],
      "outputs": [
        {
          "output_type": "execute_result",
          "execution_count": 18,
          "data": {
            "text/plain": [
              "tensor([[3.2564e-06, 8.5643e-12, 4.8680e-12, 1.3206e-03, 2.4021e-03, 9.9626e-01,\n",
              "         1.9210e-10, 1.8443e-06, 5.2736e-08, 9.0885e-06],\n",
              "        [1.9968e-08, 7.6205e-08, 2.2097e-07, 9.7967e-01, 3.8003e-08, 5.1135e-07,\n",
              "         6.1607e-08, 7.0757e-07, 1.2185e-08, 2.0324e-02],\n",
              "        [3.0492e-05, 5.5655e-09, 9.3654e-01, 2.3844e-05, 6.3163e-02, 2.1740e-04,\n",
              "         5.3401e-10, 2.9757e-05, 1.7060e-08, 1.0720e-07],\n",
              "        [1.8725e-07, 1.0532e-10, 2.0853e-04, 9.9573e-01, 3.7990e-03, 2.2663e-04,\n",
              "         8.3590e-10, 9.2876e-06, 1.0212e-09, 2.7538e-05],\n",
              "        [3.2994e-06, 2.6338e-12, 9.5572e-10, 3.2002e-02, 7.3385e-03, 9.6065e-01,\n",
              "         1.7973e-07, 3.7473e-09, 1.7576e-10, 2.4816e-06],\n",
              "        [3.5107e-10, 1.2759e-13, 1.3414e-10, 9.9974e-01, 2.9568e-09, 8.2257e-05,\n",
              "         1.8995e-06, 1.7396e-04, 5.2268e-09, 7.1986e-08],\n",
              "        [7.6051e-07, 4.4783e-10, 3.1182e-07, 1.1693e-01, 2.0147e-04, 8.8278e-01,\n",
              "         4.8500e-10, 8.3654e-05, 3.9751e-10, 2.2519e-06],\n",
              "        [4.6219e-11, 1.8055e-11, 1.6467e-05, 3.9663e-01, 1.3632e-06, 6.0332e-01,\n",
              "         2.5180e-09, 5.6739e-07, 9.3780e-10, 3.0503e-05],\n",
              "        [2.7423e-03, 3.2067e-08, 1.3670e-04, 1.8614e-03, 3.1362e-05, 9.9521e-01,\n",
              "         7.4371e-10, 1.5247e-05, 1.0209e-07, 1.3121e-10],\n",
              "        [1.2603e-04, 1.8550e-11, 4.2467e-06, 4.3051e-02, 9.1858e-05, 9.5672e-01,\n",
              "         1.4648e-10, 1.1617e-05, 8.1442e-11, 1.1954e-07],\n",
              "        [8.4503e-02, 9.2782e-09, 3.7072e-05, 9.7666e-04, 5.8768e-02, 8.5377e-01,\n",
              "         1.3489e-10, 1.8917e-03, 7.4531e-08, 5.6951e-05],\n",
              "        [1.0536e-04, 6.2288e-09, 8.9541e-06, 2.5827e-01, 1.1812e-05, 6.8863e-01,\n",
              "         4.2019e-06, 3.5229e-05, 4.5589e-09, 5.2935e-02],\n",
              "        [3.6899e-06, 1.3963e-06, 3.8410e-07, 8.2493e-01, 1.5581e-01, 2.2322e-03,\n",
              "         2.8326e-07, 1.6879e-04, 3.7542e-09, 1.6848e-02],\n",
              "        [2.1465e-07, 1.6358e-13, 3.5806e-05, 1.9273e-04, 3.2633e-08, 9.9961e-01,\n",
              "         6.5665e-12, 9.1173e-06, 1.6398e-09, 1.5391e-04],\n",
              "        [5.0723e-04, 4.4596e-09, 1.4846e-07, 2.9937e-02, 9.3742e-01, 3.2101e-02,\n",
              "         1.1652e-12, 1.8236e-05, 1.5428e-05, 1.4540e-06],\n",
              "        [7.3907e-07, 1.6036e-10, 6.9050e-08, 8.9576e-01, 6.0016e-09, 8.2249e-08,\n",
              "         1.1559e-09, 2.3628e-05, 1.9363e-16, 1.0422e-01],\n",
              "        [1.5187e-10, 5.8815e-12, 8.5593e-09, 8.8868e-01, 5.7233e-03, 1.0560e-01,\n",
              "         1.7707e-13, 1.5941e-11, 2.4823e-14, 1.0845e-11],\n",
              "        [7.4948e-07, 5.1119e-11, 2.6246e-03, 8.2459e-01, 9.3681e-03, 1.6174e-01,\n",
              "         1.7543e-13, 3.5539e-06, 4.4910e-10, 1.6644e-03],\n",
              "        [5.0516e-05, 1.3981e-11, 3.3604e-08, 2.9341e-01, 6.2753e-01, 7.6955e-02,\n",
              "         5.5107e-11, 1.9916e-03, 5.7017e-09, 6.5169e-05],\n",
              "        [2.5397e-06, 2.4221e-11, 3.9592e-09, 9.1227e-01, 1.4926e-04, 8.7573e-02,\n",
              "         2.4124e-09, 1.5630e-06, 4.0494e-09, 5.9627e-08],\n",
              "        [1.2638e-09, 6.5866e-06, 5.8849e-02, 3.0952e-01, 1.9553e-01, 5.7487e-02,\n",
              "         1.3793e-05, 4.3441e-05, 1.7608e-08, 3.7855e-01],\n",
              "        [4.3091e-06, 4.9814e-08, 3.5026e-05, 9.9522e-01, 7.5867e-05, 4.5098e-03,\n",
              "         1.5367e-07, 3.1106e-05, 3.1917e-11, 1.2670e-04],\n",
              "        [4.8159e-03, 1.3991e-10, 2.0043e-05, 9.4214e-01, 8.1178e-03, 4.4897e-02,\n",
              "         2.9372e-08, 3.6924e-06, 3.4153e-06, 4.3228e-07],\n",
              "        [2.5738e-15, 8.7595e-17, 4.2449e-13, 1.0000e+00, 4.6259e-11, 4.5088e-17,\n",
              "         2.9554e-12, 5.9484e-12, 1.7757e-14, 4.6910e-10],\n",
              "        [3.1357e-01, 1.0040e-08, 8.9309e-08, 1.7583e-01, 9.9188e-03, 8.9970e-02,\n",
              "         3.8492e-08, 4.1871e-02, 1.8043e-08, 3.6884e-01],\n",
              "        [2.5118e-13, 1.7258e-11, 3.5959e-09, 9.5022e-05, 9.9987e-01, 6.8022e-08,\n",
              "         1.0371e-11, 2.3008e-07, 7.6529e-11, 3.3952e-05],\n",
              "        [8.4929e-04, 5.0578e-01, 1.6034e-07, 1.9699e-02, 3.7323e-01, 8.2475e-02,\n",
              "         2.4692e-06, 1.7963e-02, 1.9990e-07, 6.0324e-07],\n",
              "        [4.2453e-04, 1.7131e-16, 8.9356e-03, 5.2712e-01, 7.0502e-04, 4.6279e-01,\n",
              "         7.8868e-08, 2.1125e-06, 1.8299e-05, 6.5440e-08],\n",
              "        [1.5661e-04, 2.4059e-09, 2.7382e-05, 9.4668e-01, 2.3226e-04, 5.4673e-06,\n",
              "         6.0516e-06, 5.3044e-05, 6.7217e-09, 5.2840e-02],\n",
              "        [1.1040e-04, 1.1350e-09, 1.3539e-06, 6.8617e-02, 3.7689e-05, 9.3123e-01,\n",
              "         1.2341e-08, 4.0611e-08, 1.3595e-08, 2.0269e-09],\n",
              "        [1.3059e-08, 5.8774e-09, 1.9269e-10, 9.9615e-01, 1.1460e-08, 3.2536e-03,\n",
              "         5.9588e-09, 5.8661e-04, 5.8311e-11, 1.4792e-05],\n",
              "        [8.8141e-09, 1.7595e-11, 3.0495e-07, 1.3952e-10, 5.1564e-04, 9.9948e-01,\n",
              "         7.5719e-12, 2.8974e-07, 1.6431e-09, 3.5896e-08],\n",
              "        [2.6859e-04, 2.2885e-10, 7.3531e-05, 9.5515e-01, 2.7795e-06, 4.4462e-02,\n",
              "         2.3374e-06, 4.0987e-06, 3.8968e-05, 1.1022e-07],\n",
              "        [2.2072e-04, 3.5942e-09, 1.4202e-08, 8.7638e-01, 6.1428e-05, 1.2000e-01,\n",
              "         8.4605e-04, 2.4827e-03, 9.4797e-06, 7.1894e-07],\n",
              "        [8.2228e-09, 4.0872e-08, 2.3919e-08, 9.9840e-01, 1.2094e-09, 2.4959e-06,\n",
              "         1.3508e-09, 4.1103e-08, 1.6044e-10, 1.5943e-03],\n",
              "        [4.8157e-04, 2.5616e-07, 2.4199e-01, 1.7088e-02, 6.9221e-01, 1.7779e-03,\n",
              "         1.6979e-06, 1.8765e-06, 3.0615e-10, 4.6454e-02],\n",
              "        [4.7904e-05, 1.7662e-09, 7.6704e-09, 2.2842e-02, 3.6583e-05, 9.4184e-01,\n",
              "         2.8932e-06, 5.8668e-03, 1.0631e-03, 2.8300e-02],\n",
              "        [7.9255e-06, 2.1357e-10, 3.6646e-11, 4.8589e-04, 5.6334e-01, 4.3577e-01,\n",
              "         1.7702e-08, 5.2911e-06, 1.9527e-11, 3.9228e-04],\n",
              "        [2.2278e-09, 5.1214e-19, 4.4919e-07, 9.9935e-01, 9.0253e-07, 6.0159e-04,\n",
              "         1.2671e-10, 1.1535e-06, 3.1262e-11, 4.5369e-05],\n",
              "        [3.2546e-01, 3.4006e-07, 1.6242e-04, 6.8198e-02, 4.4444e-02, 5.6165e-01,\n",
              "         1.2952e-05, 8.5920e-07, 5.6279e-08, 7.2086e-05],\n",
              "        [4.8455e-08, 1.6909e-12, 5.0980e-05, 2.5738e-10, 4.8895e-06, 9.9994e-01,\n",
              "         7.2947e-07, 3.0782e-09, 1.3180e-07, 1.1505e-10],\n",
              "        [7.5372e-03, 2.3524e-11, 9.0751e-07, 2.7300e-01, 1.8972e-04, 8.9680e-06,\n",
              "         3.1239e-03, 7.6601e-06, 4.7036e-08, 7.1613e-01],\n",
              "        [7.8565e-09, 2.5303e-12, 4.3646e-08, 8.3632e-01, 3.7160e-04, 1.0847e-03,\n",
              "         1.9577e-07, 1.6219e-01, 9.6697e-10, 3.1248e-05],\n",
              "        [7.2251e-09, 1.7863e-13, 1.3804e-08, 9.9989e-01, 5.4255e-08, 2.2223e-08,\n",
              "         3.2330e-10, 1.4368e-08, 1.7461e-08, 1.0903e-04],\n",
              "        [1.6974e-05, 3.8291e-08, 5.2685e-05, 3.9221e-06, 1.2112e-01, 8.7693e-01,\n",
              "         1.1656e-04, 4.1774e-04, 5.2163e-10, 1.3362e-03],\n",
              "        [1.7683e-09, 1.4833e-12, 1.1256e-08, 1.2962e-06, 2.1347e-09, 1.0000e+00,\n",
              "         2.3040e-12, 1.7963e-10, 6.6889e-16, 6.3551e-10],\n",
              "        [1.2382e-05, 4.1254e-07, 1.2889e-07, 1.7858e-03, 9.9779e-01, 2.0640e-04,\n",
              "         3.7908e-06, 1.0179e-09, 1.8279e-11, 1.9692e-04],\n",
              "        [1.6752e-09, 2.8607e-09, 2.3687e-07, 1.0977e-06, 1.5385e-05, 9.9958e-01,\n",
              "         1.2038e-06, 3.7141e-07, 1.2044e-11, 4.0663e-04],\n",
              "        [5.4589e-10, 2.6827e-09, 2.1088e-11, 8.8920e-01, 3.6089e-06, 1.1033e-01,\n",
              "         7.2693e-14, 4.5560e-04, 3.0728e-10, 9.9445e-06],\n",
              "        [6.4777e-03, 8.3342e-01, 2.2248e-06, 7.5584e-02, 5.6246e-03, 3.2980e-03,\n",
              "         1.5974e-04, 5.2349e-02, 1.6251e-07, 2.3079e-02],\n",
              "        [2.9512e-06, 7.0923e-06, 1.8175e-08, 9.9980e-01, 1.1558e-05, 1.6635e-04,\n",
              "         7.3967e-10, 1.3831e-05, 1.8019e-06, 2.5655e-07],\n",
              "        [5.7487e-03, 2.4206e-10, 2.9934e-05, 3.1262e-03, 4.6960e-06, 9.9109e-01,\n",
              "         4.6563e-08, 7.5890e-07, 2.5325e-08, 6.4054e-10],\n",
              "        [3.3133e-07, 1.5395e-08, 2.5764e-06, 1.9331e-02, 2.1462e-01, 1.6598e-01,\n",
              "         5.9577e-01, 7.2279e-07, 1.1487e-10, 4.2989e-03],\n",
              "        [2.0806e-02, 1.0939e-08, 7.6655e-09, 5.0703e-01, 3.1612e-01, 1.5602e-01,\n",
              "         1.4602e-05, 6.1810e-09, 3.4086e-06, 3.8340e-06],\n",
              "        [7.5732e-11, 1.1073e-10, 4.3345e-16, 9.7121e-01, 8.3485e-06, 2.8017e-02,\n",
              "         1.4766e-11, 6.5155e-08, 9.3740e-07, 7.6695e-04],\n",
              "        [6.5555e-02, 1.0467e-08, 8.2862e-07, 4.4458e-02, 8.3504e-01, 1.2255e-03,\n",
              "         1.5984e-04, 1.3596e-03, 1.2240e-11, 5.2207e-02],\n",
              "        [8.7096e-06, 5.4071e-06, 6.9440e-05, 8.4116e-05, 8.3422e-07, 9.9537e-01,\n",
              "         4.4450e-09, 2.5064e-05, 9.3560e-11, 4.4382e-03],\n",
              "        [5.6943e-08, 9.9694e-08, 1.3296e-05, 7.7858e-05, 1.3333e-01, 8.5325e-01,\n",
              "         1.5620e-05, 1.0189e-02, 1.9950e-07, 3.1331e-03],\n",
              "        [3.1037e-04, 2.6757e-11, 3.0055e-04, 9.8667e-01, 2.1841e-06, 1.2583e-02,\n",
              "         2.0884e-12, 8.9302e-05, 2.7684e-10, 4.2685e-05],\n",
              "        [5.4555e-08, 9.1109e-11, 3.6614e-07, 8.6818e-03, 2.9079e-04, 9.9101e-01,\n",
              "         1.3759e-05, 1.1255e-08, 8.4320e-14, 8.3618e-08],\n",
              "        [4.3324e-05, 1.2895e-10, 3.1629e-06, 8.7119e-01, 5.5951e-02, 7.2648e-02,\n",
              "         9.5377e-05, 3.7703e-07, 2.1339e-09, 7.0669e-05],\n",
              "        [1.0706e-02, 3.9306e-04, 3.2502e-05, 3.8769e-03, 9.7575e-01, 8.9449e-03,\n",
              "         7.0559e-05, 1.2607e-04, 1.9721e-07, 9.6386e-05],\n",
              "        [6.0527e-07, 2.9046e-06, 8.2619e-07, 1.5220e-02, 6.3791e-03, 9.7832e-01,\n",
              "         2.0043e-09, 6.8385e-05, 7.1405e-10, 9.1859e-06],\n",
              "        [6.5038e-03, 2.8222e-15, 2.7704e-07, 9.9307e-01, 2.5831e-06, 1.1558e-05,\n",
              "         1.5688e-10, 1.6832e-07, 3.0219e-08, 4.1179e-04]])"
            ]
          },
          "metadata": {}
        }
      ],
      "execution_count": 18,
      "metadata": {
        "collapsed": false,
        "outputHidden": false,
        "inputHidden": false
      }
    },
    {
      "cell_type": "markdown",
      "source": [
        "## Building network for image number recognition"
      ],
      "metadata": {
        "collapsed": false,
        "outputHidden": false,
        "inputHidden": false
      }
    },
    {
      "cell_type": "code",
      "source": [
        "class Network(nn.Module):\n",
        "    def __init__(self):\n",
        "        super().__init__()\n",
        "        # Inputs to hidden layer linear transformation\n",
        "        self.hidden = nn.Linear(784, 256)\n",
        "        # Output layer, 10 units - one for each digit\n",
        "        self.output = nn.Linear(256, 10)\n",
        "        \n",
        "    def forward(self, x):\n",
        "        # Hidden layer with sigmoid activation\n",
        "        x = F.sigmoid(self.hidden(x))\n",
        "        # Output layer with softmax activation\n",
        "        x = F.softmax(self.output(x), dim=1)\n",
        "        \n",
        "        return x"
      ],
      "outputs": [],
      "execution_count": 19,
      "metadata": {
        "collapsed": false,
        "outputHidden": false,
        "inputHidden": false
      }
    },
    {
      "cell_type": "code",
      "source": [
        "# Create the network and look at it's text representation\n",
        "model = Network()\n",
        "model"
      ],
      "outputs": [
        {
          "output_type": "execute_result",
          "execution_count": 20,
          "data": {
            "text/plain": [
              "Network(\n",
              "  (hidden): Linear(in_features=784, out_features=256, bias=True)\n",
              "  (output): Linear(in_features=256, out_features=10, bias=True)\n",
              ")"
            ]
          },
          "metadata": {}
        }
      ],
      "execution_count": 20,
      "metadata": {
        "collapsed": false,
        "outputHidden": false,
        "inputHidden": false
      }
    },
    {
      "cell_type": "code",
      "source": [
        "class Network1(nn.Module):\n",
        "    def __init__(self):\n",
        "        super().__init__()\n",
        "        # Inputs to hidden layer linear transformation\n",
        "        self.hidden1 = nn.Linear(784, 128)\n",
        "        # Second hidden\n",
        "        self.hidden2 = nn.Linear(128, 64)\n",
        "        # Output layer, 10 units - one for each digit\n",
        "        self.output = nn.Linear(64, 10)\n",
        "        \n",
        "    def forward(self, x):\n",
        "        # 1 hidden layer with relu activation\n",
        "        x = F.relu(self.hidden1(x))\n",
        "        # 2 hidden layer with relu activation\n",
        "        x = F.relu(self.hidden2(x))\n",
        "        # Output layer with softmax activation\n",
        "        x = F.softmax(self.output(x), dim=1)\n",
        "        \n",
        "        return x"
      ],
      "outputs": [],
      "execution_count": 21,
      "metadata": {
        "collapsed": false,
        "outputHidden": false,
        "inputHidden": false
      }
    },
    {
      "cell_type": "code",
      "source": [
        "model = Network1()\n",
        "model"
      ],
      "outputs": [
        {
          "output_type": "execute_result",
          "execution_count": 22,
          "data": {
            "text/plain": [
              "Network1(\n",
              "  (hidden1): Linear(in_features=784, out_features=128, bias=True)\n",
              "  (hidden2): Linear(in_features=128, out_features=64, bias=True)\n",
              "  (output): Linear(in_features=64, out_features=10, bias=True)\n",
              ")"
            ]
          },
          "metadata": {}
        }
      ],
      "execution_count": 22,
      "metadata": {
        "collapsed": false,
        "outputHidden": false,
        "inputHidden": false
      }
    },
    {
      "cell_type": "code",
      "source": [
        "print(model.hidden1.weight)\n",
        "print(model.hidden1.bias)\n",
        "print(model.hidden2.weight)\n",
        "print(model.hidden2.bias)"
      ],
      "outputs": [
        {
          "output_type": "stream",
          "name": "stdout",
          "text": [
            "Parameter containing:\n",
            "tensor([[ 0.0340,  0.0067,  0.0152,  ...,  0.0171, -0.0345,  0.0263],\n",
            "        [ 0.0049, -0.0070,  0.0175,  ..., -0.0035, -0.0112,  0.0164],\n",
            "        [ 0.0284,  0.0210, -0.0287,  ...,  0.0231, -0.0279, -0.0132],\n",
            "        ...,\n",
            "        [-0.0257, -0.0091, -0.0303,  ...,  0.0010,  0.0221,  0.0105],\n",
            "        [ 0.0015, -0.0126,  0.0071,  ...,  0.0034,  0.0136,  0.0090],\n",
            "        [-0.0145, -0.0175,  0.0015,  ...,  0.0006, -0.0315,  0.0100]],\n",
            "       requires_grad=True)\n",
            "Parameter containing:\n",
            "tensor([-0.0288,  0.0176,  0.0343,  0.0254, -0.0033,  0.0076, -0.0077, -0.0086,\n",
            "         0.0209, -0.0210,  0.0286,  0.0117, -0.0188,  0.0013, -0.0105, -0.0211,\n",
            "         0.0009,  0.0022, -0.0245,  0.0222, -0.0050, -0.0263, -0.0247, -0.0289,\n",
            "         0.0260,  0.0025,  0.0036, -0.0316,  0.0287, -0.0115,  0.0257,  0.0206,\n",
            "        -0.0044, -0.0181,  0.0273,  0.0284,  0.0059, -0.0242, -0.0130,  0.0023,\n",
            "         0.0158,  0.0281,  0.0183,  0.0060, -0.0267, -0.0293, -0.0307, -0.0172,\n",
            "         0.0064, -0.0238, -0.0104,  0.0190, -0.0297, -0.0215, -0.0191,  0.0142,\n",
            "         0.0049,  0.0286, -0.0052,  0.0046,  0.0253,  0.0225,  0.0188,  0.0005,\n",
            "        -0.0252, -0.0042,  0.0295, -0.0283, -0.0333,  0.0196, -0.0281,  0.0223,\n",
            "         0.0329,  0.0058,  0.0244,  0.0130,  0.0038,  0.0047,  0.0020,  0.0302,\n",
            "         0.0182, -0.0134,  0.0036,  0.0315, -0.0340, -0.0346,  0.0246,  0.0296,\n",
            "        -0.0021,  0.0301,  0.0338,  0.0003,  0.0208,  0.0350, -0.0291,  0.0016,\n",
            "         0.0065, -0.0238, -0.0083,  0.0045, -0.0121, -0.0104, -0.0239,  0.0228,\n",
            "         0.0021, -0.0336,  0.0254,  0.0275, -0.0273,  0.0073,  0.0004, -0.0095,\n",
            "         0.0314,  0.0211,  0.0284, -0.0144, -0.0076, -0.0104,  0.0177,  0.0251,\n",
            "         0.0056,  0.0004, -0.0256, -0.0050, -0.0036,  0.0326,  0.0130,  0.0137],\n",
            "       requires_grad=True)\n",
            "Parameter containing:\n",
            "tensor([[ 0.0677, -0.0307, -0.0205,  ...,  0.0868, -0.0668, -0.0774],\n",
            "        [ 0.0413,  0.0588,  0.0772,  ..., -0.0396, -0.0205, -0.0797],\n",
            "        [ 0.0559, -0.0501,  0.0277,  ...,  0.0473, -0.0185,  0.0750],\n",
            "        ...,\n",
            "        [-0.0262,  0.0394, -0.0094,  ...,  0.0335, -0.0394, -0.0279],\n",
            "        [ 0.0347, -0.0678, -0.0651,  ...,  0.0144,  0.0839,  0.0676],\n",
            "        [-0.0805, -0.0808, -0.0846,  ...,  0.0202,  0.0649, -0.0068]],\n",
            "       requires_grad=True)\n",
            "Parameter containing:\n",
            "tensor([-0.0168, -0.0297,  0.0318, -0.0178, -0.0335, -0.0776,  0.0004,  0.0551,\n",
            "         0.0707, -0.0502, -0.0724, -0.0398, -0.0670,  0.0694,  0.0868,  0.0170,\n",
            "        -0.0552,  0.0351,  0.0736, -0.0607,  0.0173, -0.0217, -0.0049,  0.0189,\n",
            "        -0.0778, -0.0867,  0.0482,  0.0115,  0.0020,  0.0744,  0.0649, -0.0144,\n",
            "         0.0246,  0.0369, -0.0568, -0.0477, -0.0221,  0.0095,  0.0354,  0.0832,\n",
            "        -0.0417, -0.0356,  0.0803, -0.0278,  0.0632,  0.0025, -0.0577, -0.0813,\n",
            "         0.0107, -0.0304, -0.0063, -0.0579, -0.0220, -0.0059,  0.0553, -0.0583,\n",
            "         0.0463,  0.0006,  0.0730,  0.0031, -0.0498, -0.0039,  0.0029, -0.0315],\n",
            "       requires_grad=True)\n"
          ]
        }
      ],
      "execution_count": 23,
      "metadata": {
        "collapsed": false,
        "outputHidden": false,
        "inputHidden": false
      }
    },
    {
      "cell_type": "code",
      "source": [
        "transform = transforms.Compose([transforms.ToTensor(),\n",
        "                              transforms.Normalize((0.5,0.5,0.5), (0.5,0.5,0.5)),\n",
        "                              ])\n",
        "\n",
        "# Download and load the training data\n",
        "trainset = datasets.MNIST('~/.pytorch/MNIST_data/', download=True, train=True, transform=transform)\n",
        "trainloader = torch.utils.data.DataLoader(trainset, batch_size=64, shuffle=True)"
      ],
      "outputs": [],
      "execution_count": 24,
      "metadata": {
        "collapsed": false,
        "outputHidden": false,
        "inputHidden": false
      }
    },
    {
      "cell_type": "code",
      "source": [
        "# Define network architecture using wrapper\n",
        "model = nn.Sequential(nn.Linear(784, 128),\n",
        "                      nn.ReLU(),\n",
        "                      nn.Linear(128, 64),\n",
        "                      nn.ReLU(),\n",
        "                      nn.Linear(64, 10))\n",
        "print(model)\n",
        "\n",
        "# Define the loss\n",
        "criterion = nn.CrossEntropyLoss()\n",
        "\n",
        "# Get the data\n",
        "images, labels = next(iter(trainloader))\n",
        "\n",
        "# Flatten images\n",
        "images = images.view(images.shape[0], -1)\n",
        "\n",
        "# Forward pass\n",
        "logits = model(images)\n",
        "\n",
        "# Calculate the loss\n",
        "loss = criterion(logits, labels)\n",
        "\nprint(loss)"
      ],
      "outputs": [
        {
          "output_type": "stream",
          "name": "stdout",
          "text": [
            "Sequential(\n",
            "  (0): Linear(in_features=784, out_features=128, bias=True)\n",
            "  (1): ReLU()\n",
            "  (2): Linear(in_features=128, out_features=64, bias=True)\n",
            "  (3): ReLU()\n",
            "  (4): Linear(in_features=64, out_features=10, bias=True)\n",
            ")\n",
            "tensor(2.3251, grad_fn=<NllLossBackward>)\n"
          ]
        }
      ],
      "execution_count": 25,
      "metadata": {
        "collapsed": false,
        "outputHidden": false,
        "inputHidden": false
      }
    },
    {
      "cell_type": "markdown",
      "source": [
        "## Network Architecture "
      ],
      "metadata": {
        "collapsed": false,
        "outputHidden": false,
        "inputHidden": false
      }
    },
    {
      "cell_type": "code",
      "source": [
        "transform = transforms.Compose([transforms.ToTensor(),\n",
        "                              transforms.Normalize((0.5,0.5,0.5), (0.5,0.5,0.5)),\n",
        "                              ])\n",
        "\n",
        "# Download and load the training data\n",
        "trainset = datasets.MNIST('~/.pytorch/MNIST_data/', download=True, train=True, transform=transform)\n",
        "trainloader = torch.utils.data.DataLoader(trainset, batch_size=64, shuffle=True)"
      ],
      "outputs": [],
      "execution_count": 26,
      "metadata": {
        "collapsed": false,
        "outputHidden": false,
        "inputHidden": false
      }
    },
    {
      "cell_type": "code",
      "source": [
        "model = nn.Sequential(nn.Linear(784, 128),\n",
        "                      nn.ReLU(),\n",
        "                      nn.Linear(128, 64),\n",
        "                      nn.ReLU(),\n",
        "                      nn.Linear(64, 10),\n",
        "                      nn.LogSoftmax(dim=1))\n",
        "\n",
        "# Define the loss and optimizer\n",
        "criterion = nn.NLLLoss()\n",
        "optimizer = optim.SGD(model.parameters(), lr=0.003)\n",
        "\n",
        "epochs = 20\n",
        "for e in range(epochs):\n",
        "    running_loss = 0\n",
        "    for images, labels in trainloader:\n",
        "        images = images.view(images.shape[0], -1)\n",
        "        \n",
        "        # Gradient to zero\n",
        "        optimizer.zero_grad()\n",
        "\n",
        "        output = model.forward(images)\n",
        "        loss = criterion(output, labels)\n",
        "        loss.backward()\n",
        "        optimizer.step()\n",
        "        \n",
        "        running_loss += loss.item()\n",
        "    else:\n",
        "        print(f\"Training loss: {running_loss / len(trainloader)}\")"
      ],
      "outputs": [
        {
          "output_type": "stream",
          "name": "stdout",
          "text": [
            "Training loss: 1.871655824214919\n",
            "Training loss: 0.8313357959360456\n",
            "Training loss: 0.5254041539199317\n",
            "Training loss: 0.4294451842112328\n",
            "Training loss: 0.3840954667850852\n",
            "Training loss: 0.35701972975342006\n",
            "Training loss: 0.3382105703261107\n",
            "Training loss: 0.32385340271823443\n",
            "Training loss: 0.31170686775210826\n",
            "Training loss: 0.3015429663108483\n",
            "Training loss: 0.2928286786955684\n",
            "Training loss: 0.2848892825355789\n",
            "Training loss: 0.27795449352022933\n",
            "Training loss: 0.2711571081360774\n",
            "Training loss: 0.2644727985932629\n",
            "Training loss: 0.2586706522971328\n",
            "Training loss: 0.25259071639351754\n",
            "Training loss: 0.24689979888578215\n",
            "Training loss: 0.2411695709352745\n",
            "Training loss: 0.23581177971240427\n"
          ]
        }
      ],
      "execution_count": 27,
      "metadata": {}
    },
    {
      "cell_type": "code",
      "source": [
        "images, labels = next(iter(trainloader))\n",
        "\n",
        "img = images[0].view(1, 784)\n",
        "logps = model.forward(img)\n",
        "\n",
        "ps = torch.exp(logps)\n",
        "halper.view_classify(img.view(1, 28, 28), ps)"
      ],
      "outputs": [
        {
          "output_type": "display_data",
          "data": {
            "text/plain": [
              "<Figure size 432x648 with 2 Axes>"
            ],
            "image/png": "[encoded data removed]"
          },
          "metadata": {
            "image/png": {
              "width": 423,
              "height": 226
            }
          }
        }
      ],
      "execution_count": 29,
      "metadata": {
        "collapsed": false,
        "outputHidden": false,
        "inputHidden": false
      }
    },
    {
      "cell_type": "code",
      "source": [],
      "outputs": [],
      "execution_count": null,
      "metadata": {
        "collapsed": false,
        "outputHidden": false,
        "inputHidden": false
      }
    }
  ],
  "metadata": {
    "kernel_info": {
      "name": "python3"
    },
    "language_info": {
      "name": "python",
      "version": "3.7.0",
      "mimetype": "text/x-python",
      "codemirror_mode": {
        "name": "ipython",
        "version": 3
      },
      "pygments_lexer": "ipython3",
      "nbconvert_exporter": "python",
      "file_extension": ".py"
    },
    "kernelspec": {
      "name": "python3",
      "language": "python",
      "display_name": "Python 3"
    },
    "nteract": {
      "version": "0.12.3"
    }
  },
  "nbformat": 4,
  "nbformat_minor": 4
}